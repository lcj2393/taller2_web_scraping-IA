{
 "cells": [
  {
   "cell_type": "code",
   "execution_count": 2,
   "metadata": {},
   "outputs": [
    {
     "name": "stdout",
     "output_type": "stream",
     "text": [
      "ANALISIS SITIOS WEB\n",
      "Digite el sitio web a Analizar: http://youtube.com\n",
      "1 - YouTube\n"
     ]
    }
   ],
   "source": [
    "from bs4 import BeautifulSoup\n",
    "import requests\n",
    "\n",
    "print (\"ANALISIS SITIOS WEB\")\n",
    "URL = input(\"Digite el sitio web a Analizar: \")\n",
    "\n",
    "#petición a la página web ingresada\n",
    "req = requests.get(URL)\n",
    "\n",
    "# Comprobamos que la petición nos devuelve un Status Code = 200 si es correcto.\n",
    "estado = req.status_code\n",
    "if estado == 200:\n",
    "\n",
    "    # Parseo del sitio con BeautifulSoup()\n",
    "    html = BeautifulSoup(req.text, \"html.parser\")\n",
    "\n",
    "    # Devuelve los divs donde están las entradas requeridas\n",
    "    entradas = html.find_all('head')\n",
    "\n",
    "    # Recorremos todas las entradas para extraer el título\n",
    "    for i, entrada in enumerate(entradas):\n",
    "        \n",
    "        # Con el método \"getText()\" no nos devuelve el HTML\n",
    "        titulo = entrada.find('title').getText()\n",
    "        \n",
    "        # Imprimo el Título y URL de las entradas\n",
    "        print(\"%d - %s\" % (i+1, titulo))\n",
    "        #Apertura del Archivo Tutulos.txt\n",
    "        with open(\"titulos.txt\") as f:\n",
    "            for j, linea in enumerate(f):\n",
    "                if titulo in linea:\n",
    "                    j\n",
    "                else:\n",
    "                    with open(\"titulos.txt\", \"a\") as archivo:\n",
    "                        archivo.write(\"%s - \" % (titulo))\n",
    "                    archivo.close   \n",
    "        #Cerrado del archivo Titulos.txt            \n",
    "        f.close\n",
    "        #Apertura del Archivo Paginas.txt\n",
    "        with open(\"paginas.txt\") as f:\n",
    "            for k, linea in enumerate(f):\n",
    "                if URL in linea:\n",
    "                    k\n",
    "                else:\n",
    "                    with open(\"paginas.txt\", \"a\") as archivo:\n",
    "                        archivo.write(\"%s - \" % (URL))\n",
    "                    archivo.close\n",
    "        #Cerrado del archivo Paginas.txt \n",
    "        f.close\n",
    "else:\n",
    "    print(estado, \"URL No Valida.\")"
   ]
  },
  {
   "cell_type": "code",
   "execution_count": null,
   "metadata": {},
   "outputs": [],
   "source": []
  },
  {
   "cell_type": "code",
   "execution_count": null,
   "metadata": {},
   "outputs": [],
   "source": []
  },
  {
   "cell_type": "code",
   "execution_count": null,
   "metadata": {},
   "outputs": [],
   "source": []
  }
 ],
 "metadata": {
  "kernelspec": {
   "display_name": "Python 3",
   "language": "python",
   "name": "python3"
  },
  "language_info": {
   "codemirror_mode": {
    "name": "ipython",
    "version": 3
   },
   "file_extension": ".py",
   "mimetype": "text/x-python",
   "name": "python",
   "nbconvert_exporter": "python",
   "pygments_lexer": "ipython3",
   "version": "3.6.4"
  }
 },
 "nbformat": 4,
 "nbformat_minor": 2
}
